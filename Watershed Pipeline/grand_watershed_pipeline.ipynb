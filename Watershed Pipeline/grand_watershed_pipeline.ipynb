{
 "cells": [
  {
   "cell_type": "markdown",
   "metadata": {},
   "source": [
    "# The GRAND WATERSHED PIPELINE\n",
    "\n",
    "This notebook is designed to provide a parameterized pipeline for Watershed Transformations.  \n",
    "Hopefully this wil simplify experimentation with different parameters, filtering functions,  \n",
    "and input images."
   ]
  },
  {
   "cell_type": "code",
   "execution_count": 1,
   "metadata": {},
   "outputs": [],
   "source": [
    "from skimage import exposure\n",
    "from skimage import filters\n",
    "from skimage import io\n",
    "import scipy.ndimage as ndi\n",
    "import numpy as np\n",
    "import matplotlib.pyplot as plt\n",
    "%matplotlib inline"
   ]
  },
  {
   "cell_type": "code",
   "execution_count": 2,
   "metadata": {},
   "outputs": [],
   "source": [
    "\"\"\"\n",
    "Parameters\n",
    "\"\"\"\n",
    "# on/off switch for inline images\n",
    "SHOW_IMAGES = False\n",
    "\n",
    "# path to input image\n",
    "# using pre-cropped and pre-equalized band_contrast_image as input\n",
    "ROOT_IMAGE_FILE = 'band_contrast_crop_equalize.png'\n",
    "\n",
    "# on/off switch for histogram equalization of root_image\n",
    "EQUALIZE_HIST = False\n",
    "\n",
    "# rank order filter box size\n",
    "RO_DIMENSIONS = 5\n",
    "\n",
    "# local thresholding block size\n",
    "LT_BLOCK_SIZE = 25\n"
   ]
  },
  {
   "cell_type": "code",
   "execution_count": 3,
   "metadata": {},
   "outputs": [
    {
     "name": "stdout",
     "output_type": "stream",
     "text": [
      "root_image: (3272, 1883) uint8\n"
     ]
    }
   ],
   "source": [
    "\"\"\"\n",
    "Initial Image: root_image\n",
    "Optional histogram equalization\n",
    "\"\"\"\n",
    "root_image = io.imread(ROOT_IMAGE_FILE, as_gray=True)\n",
    "\n",
    "if EQUALIZE_HIST:\n",
    "    root_image = exposure.equalize_hist(root_image)\n",
    "\n",
    "print(f\"root_image: {root_image.shape} {root_image.dtype}\")\n",
    "\n",
    "if SHOW_IMAGES:\n",
    "    fig, axs = plt.subplots(1, figsize=(24, 12))\n",
    "    axs.imshow(root_image, cmap='gray')\n"
   ]
  },
  {
   "cell_type": "code",
   "execution_count": 4,
   "metadata": {},
   "outputs": [
    {
     "name": "stdout",
     "output_type": "stream",
     "text": [
      "rank_filtered: (3272, 1883) uint8\n"
     ]
    }
   ],
   "source": [
    "\"\"\"\n",
    "Median Rank Filtering: rank_filtered\n",
    "\"\"\"\n",
    "median_rank = (RO_DIMENSIONS * RO_DIMENSIONS) // 2\n",
    "rank_filtered = ndi.rank_filter(\n",
    "    root_image, median_rank, size=(RO_DIMENSIONS, RO_DIMENSIONS)\n",
    ")\n",
    "\n",
    "print(f\"rank_filtered: {rank_filtered.shape} {rank_filtered.dtype}\")\n",
    "\n",
    "if SHOW_IMAGES:\n",
    "    fig, axs = plt.subplots(1, figsize=(24, 12))\n",
    "    axs.imshow(rank_filtered, cmap='gray')\n"
   ]
  },
  {
   "cell_type": "code",
   "execution_count": 5,
   "metadata": {},
   "outputs": [
    {
     "name": "stdout",
     "output_type": "stream",
     "text": [
      "local_thresh: (3272, 1883) float64\n",
      "blobs: (3272, 1883) bool\n"
     ]
    }
   ],
   "source": [
    "\"\"\"\n",
    "Local Thresholding of rank_filtered: local_thresh\n",
    "Blobs detected between rank_filtered and local_thresh: blobs\n",
    "\"\"\"\n",
    "local_thresh = filters.threshold_local(rank_filtered, LT_BLOCK_SIZE)\n",
    "blobs = rank_filtered > local_thresh\n",
    "\n",
    "print(f\"local_thresh: {local_thresh.shape} {local_thresh.dtype}\")\n",
    "print(f\"blobs: {blobs.shape} {blobs.dtype}\")\n",
    "\n",
    "if SHOW_IMAGES:\n",
    "    fig, axs = plt.subplots(1, figsize=(24, 12))\n",
    "    axs.imshow(local_thresh, cmap='gray')\n",
    "    fig, axs = plt.subplots(1, figsize=(24, 12))\n",
    "    axs.imshow(blobs, cmap='gray')\n"
   ]
  }
 ],
 "metadata": {
  "kernelspec": {
   "display_name": "Python 3.9.12 ('mypycv')",
   "language": "python",
   "name": "python3"
  },
  "language_info": {
   "codemirror_mode": {
    "name": "ipython",
    "version": 3
   },
   "file_extension": ".py",
   "mimetype": "text/x-python",
   "name": "python",
   "nbconvert_exporter": "python",
   "pygments_lexer": "ipython3",
   "version": "3.9.12"
  },
  "orig_nbformat": 4,
  "vscode": {
   "interpreter": {
    "hash": "406aeb87cd68a7e23b21063c7075bf13cb98bc9fa5d9201fcd28bd0a0632ab52"
   }
  }
 },
 "nbformat": 4,
 "nbformat_minor": 2
}
