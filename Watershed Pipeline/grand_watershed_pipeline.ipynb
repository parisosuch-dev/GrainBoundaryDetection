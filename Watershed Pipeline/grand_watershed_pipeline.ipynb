{
 "cells": [
  {
   "cell_type": "markdown",
   "metadata": {},
   "source": [
    "# The GRAND WATERSHED PIPELINE\n",
    "\n",
    "This notebook is designed to provide a parameterized pipeline for Watershed Transformations.  \n",
    "Hopefully this wil simplify experimentation with different parameters, filtering functions,  \n",
    "and input images."
   ]
  },
  {
   "cell_type": "code",
   "execution_count": null,
   "metadata": {},
   "outputs": [],
   "source": [
    "from skimage import exposure\n",
    "from skimage import filters\n",
    "from skimage import io\n",
    "from skimage import color\n",
    "from skimage import feature\n",
    "from skimage import segmentation\n",
    "from skimage import morphology\n",
    "import scipy.ndimage as ndi\n",
    "import numpy as np\n",
    "import matplotlib.pyplot as plt\n",
    "%matplotlib inline\n"
   ]
  },
  {
   "cell_type": "code",
   "execution_count": null,
   "metadata": {},
   "outputs": [],
   "source": [
    "\"\"\"\n",
    "Parameters\n",
    "\"\"\"\n",
    "# on/off switch for inline images\n",
    "SHOW_IMAGES = True\n",
    "\n",
    "# path to input image\n",
    "# using pre-cropped and pre-equalized band_contrast_image as input\n",
    "ROOT_IMAGE_FILE = 'band_contrast_crop_equalize.png'\n",
    "\n",
    "# on/off switch for histogram equalization of root_image\n",
    "EQUALIZE_HIST = False\n",
    "\n",
    "# rank order filter box size\n",
    "RO_DIMENSIONS = 5\n",
    "\n",
    "# local thresholding block size\n",
    "LT_BLOCK_SIZE = 25\n"
   ]
  },
  {
   "cell_type": "code",
   "execution_count": null,
   "metadata": {},
   "outputs": [],
   "source": [
    "\"\"\"\n",
    "Initial Image: root_image\n",
    "Optional histogram equalization\n",
    "\"\"\"\n",
    "mask = io.imread(ROOT_IMAGE_FILE, as_gray=True)\n",
    "\n",
    "if EQUALIZE_HIST:\n",
    "    mask = exposure.equalize_hist(mask)\n",
    "\n",
    "print(f\"root_image: {mask.shape} {mask.dtype}\")\n",
    "\n",
    "if SHOW_IMAGES:\n",
    "    fig, axs = plt.subplots(1, figsize=(24, 12))\n",
    "    axs.imshow(mask, cmap='gray')\n"
   ]
  },
  {
   "cell_type": "code",
   "execution_count": null,
   "metadata": {},
   "outputs": [],
   "source": [
    "\"\"\"\n",
    "Median Rank Filtering: rank_filtered\n",
    "\"\"\"\n",
    "median_rank = (RO_DIMENSIONS * RO_DIMENSIONS) // 2\n",
    "rank_filtered = ndi.rank_filter(\n",
    "    mask, median_rank, size=(RO_DIMENSIONS, RO_DIMENSIONS)\n",
    ")\n",
    "\n",
    "print(f\"rank_filtered: {rank_filtered.shape} {rank_filtered.dtype}\")\n",
    "\n",
    "if SHOW_IMAGES:\n",
    "    fig, axs = plt.subplots(1, figsize=(24, 12))\n",
    "    axs.imshow(rank_filtered, cmap='gray')\n"
   ]
  },
  {
   "cell_type": "code",
   "execution_count": null,
   "metadata": {},
   "outputs": [],
   "source": [
    "\"\"\"\n",
    "Local Thresholding of rank_filtered: local_thresh\n",
    "Blobs detected between rank_filtered and local_thresh: mask\n",
    "\"\"\"\n",
    "local_thresh = filters.threshold_local(rank_filtered, LT_BLOCK_SIZE)\n",
    "mask = rank_filtered > local_thresh\n",
    "\n",
    "print(f\"local_thresh: {local_thresh.shape} {local_thresh.dtype}\")\n",
    "print(f\"mask: {mask.shape} {mask.dtype}\")\n",
    "\n",
    "if SHOW_IMAGES:\n",
    "    fig, axs = plt.subplots(1, figsize=(24, 12))\n",
    "    axs.imshow(local_thresh, cmap='gray')\n",
    "    fig, axs = plt.subplots(1, figsize=(24, 12))\n",
    "    axs.imshow(mask, cmap='gray')\n"
   ]
  },
  {
   "cell_type": "code",
   "execution_count": null,
   "metadata": {},
   "outputs": [],
   "source": [
    "# NOTE: interesting effect on previous mask image?\n",
    "\n",
    "closed = morphology.closing(mask, morphology.ball(1.5).reshape(16, 4))\n",
    "\n",
    "fig, axs = plt.subplots(1, figsize=(24, 12))\n",
    "axs.imshow(closed, cmap='gray')\n"
   ]
  },
  {
   "cell_type": "code",
   "execution_count": null,
   "metadata": {},
   "outputs": [],
   "source": [
    "# SKIMAGE EXAMPLE METHOD\n",
    "#\n",
    "# NOTE: image is an extremely clean binary image\n",
    "# distance = ndimage.distance_transform_edt(image)\n",
    "#\n",
    "# local_maxi = feature.peak_local_max(distance, indices = False, footprint=np.ones((3, 3)), labels=image)\n",
    "#\n",
    "# markers = morphology.label(local_maxi)\n",
    "#\n",
    "# labels_ws = segmentation.watershed(-distance, markers, mask=image)\n",
    "#\n"
   ]
  },
  {
   "cell_type": "code",
   "execution_count": null,
   "metadata": {},
   "outputs": [],
   "source": [
    "# GILL COINS METHOD\n",
    "#\n",
    "# NOTE: thresh uses GLOBAL thresholding\n",
    "# thresh = filters.threshold_otsu(coins)\n",
    "# mask = coins > thresh\n",
    "#\n",
    "# NOTE: this removes that big white glare from the upper right corner of the coins image\n",
    "# clean_border = segmentation.clear_border(mask)\n",
    "#\n",
    "# NOTE: this removes remaining white dots from black background, but doesn't seem to mess with insides of coins\n",
    "# remove_small = morphology.remove_small_objects(clean_border)\n",
    "#\n",
    "# NOTE: this clears up black spots inside the coin's GRAIN BOUNDARIES\n",
    "# SECRET SAUCE?\n",
    "# closed = morphology.closing(remove_small, skimage.morphology.square(5))\n",
    "#\n",
    "# NOTE: glowing green topographical figures\n",
    "# distance = ndimage.distance_transform_edt(closed)\n",
    "#\n",
    "# NOTE: dots at highest points of green topo features\n",
    "# local_maxi = feature.peak_local_max(distance, indices = False, footprint=np.ones((15, 15)), labels=closed)\n",
    "#\n",
    "# NOTE: transforms local maxi dots into actual LABELS\n",
    "# markers = morphology.label(local_maxi) #connected component labeling\n",
    "#\n",
    "# labels_ws = skimage.segmentation.watershed(-distance, markers, mask=closed)\n",
    "#\n"
   ]
  },
  {
   "cell_type": "code",
   "execution_count": null,
   "metadata": {},
   "outputs": [],
   "source": [
    "# EDGE BASED SEGMENTATION\n",
    "#\n",
    "# NOTE: this nearly knocks out all background pollution of the coins and black dots inside grains,\n",
    "#       but leaves one coin looking 'canny' inside grain boundary\n",
    "# edges = feature.canny(coins)\n",
    "# fill_coins = ndi.binary_fill_holes(edges)\n",
    "#\n",
    "# NOTE: canny looking coin doesn't survive\n",
    "# coins_cleaned = morphology.remove_small_objects(fill_coins, 21)\n",
    "#\n"
   ]
  },
  {
   "cell_type": "code",
   "execution_count": null,
   "metadata": {},
   "outputs": [],
   "source": [
    "# REGION BASED SEGMENTATION\n",
    "#\n",
    "# NOTE: looks a lot line canny, but less skeletal.... smoother. white rings at near grain boundaries\n",
    "# elevation_map = filters.sobel(coins)\n",
    "#\n",
    "# NOTE: looks like shit, but recall that you can densify or sparsen the number of markers\n",
    "# markers = np.zeros_like(coins)\n",
    "# markers[coins < 30] = 1\n",
    "# markers[coins > 150] = 2\n",
    "#\n",
    "# NOTE: Pretty decent mask. BINARY IMAGE. few holes in the problem coin (the one that remained canny in edge-based example)\n",
    "# segmentation_coins = segmentation.watershed(elevation_map, markers)\n",
    "#\n",
    "#\n",
    "# NOTE: filling holes after watershed,\n",
    "# NOTE: Using ndi.label on watershed binary image instead of morphology.label on local maxi dots.\n",
    "#       Getting entire coins as labels instead of little dots.\n",
    "# NOTE: Label RGB turns up the rainbow\n",
    "# segmentation_coins = ndi.binary_fill_holes(segmentation_coins - 1)\n",
    "# labeled_coins, _ = ndi.label(segmentation_coins)\n",
    "# image_label_overlay = color.label2rgb(labeled_coins, image=coins, bg_label=0)\n",
    "#\n",
    "#\n",
    "# NOTE: The contour method puts this magical yellow ring around coins, and seems to impact image_label_overlay as well?\n",
    "#       NOTE ASK GILL\n",
    "# fig, axes = plt.subplots(1, 2, figsize=(8, 3), sharey=True)\n",
    "# axes[0].imshow(coins, cmap=plt.cm.gray)\n",
    "# axes[0].contour(segmentation_coins, [0.5], linewidths=1.2, colors='y')\n",
    "# axes[1].imshow(image_label_overlay)\n",
    "#\n",
    "# for a in axes:\n",
    "#     a.axis('off')\n",
    "#\n",
    "# plt.tight_layout()\n",
    "#\n",
    "# plt.show()\n",
    "#\n"
   ]
  }
 ],
 "metadata": {
  "kernelspec": {
   "display_name": "Python 3.9.12 ('mypycv')",
   "language": "python",
   "name": "python3"
  },
  "language_info": {
   "codemirror_mode": {
    "name": "ipython",
    "version": 3
   },
   "file_extension": ".py",
   "mimetype": "text/x-python",
   "name": "python",
   "nbconvert_exporter": "python",
   "pygments_lexer": "ipython3",
   "version": "3.9.12"
  },
  "orig_nbformat": 4,
  "vscode": {
   "interpreter": {
    "hash": "406aeb87cd68a7e23b21063c7075bf13cb98bc9fa5d9201fcd28bd0a0632ab52"
   }
  }
 },
 "nbformat": 4,
 "nbformat_minor": 2
}
