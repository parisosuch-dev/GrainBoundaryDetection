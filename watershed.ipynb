{
 "cells": [
  {
   "cell_type": "code",
   "execution_count": null,
   "metadata": {},
   "outputs": [],
   "source": [
    "from helper import *\n",
    "from scipy import ndimage as ndi\n",
    "\n",
    "%matplotlib inline\n",
    "\n",
    "from skimage.segmentation import watershed\n",
    "from skimage.feature import peak_local_max\n",
    "from skimage.filters import sobel\n",
    "from skimage.exposure import histogram\n",
    "from skimage.color import label2rgb\n",
    "\n"
   ]
  },
  {
   "cell_type": "code",
   "execution_count": null,
   "metadata": {},
   "outputs": [],
   "source": [
    "# import image\n",
    "band_cont = get_band_con(open('data/Band Contrast 223.csv'))"
   ]
  },
  {
   "cell_type": "code",
   "execution_count": null,
   "metadata": {},
   "outputs": [],
   "source": [
    "# Histogram of initial gray values\n",
    "# \n",
    "# [10, 150] seems like a reasonable range for segmentation\n",
    "# but results later seem less meaningful\n",
    "\n",
    "hist, hist_centers = histogram(band_cont)\n",
    "\n",
    "fig, axes = plt.subplots(1, 2, figsize=(18, 13))\n",
    "axes[0].imshow(band_cont, cmap=plt.cm.gray)\n",
    "axes[0].axis('off')\n",
    "axes[1].plot(hist_centers, hist, lw=2)\n",
    "axes[1].set_title('histogram of gray values')"
   ]
  },
  {
   "cell_type": "code",
   "execution_count": null,
   "metadata": {},
   "outputs": [],
   "source": [
    "# unsure why elevation map is not normalized.\n",
    "elevation_map = sobel(band_cont)\n",
    "print(elevation_map.min(), elevation_map.max())\n",
    "\n",
    "markers = np.zeros_like(band_cont)\n",
    "markers[band_cont < 30] = 1\n",
    "markers[band_cont > 150] = 2\n",
    "\n",
    "segmentation_band_cont = watershed(elevation_map, markers)"
   ]
  },
  {
   "cell_type": "code",
   "execution_count": null,
   "metadata": {},
   "outputs": [],
   "source": [
    "# watershed seems meaningless here\n",
    "# preprocessing feels misled, \n",
    "# perhaps elevation map needs to be interpolated?\n",
    "fig, axes = plt.subplots(ncols=4, figsize=(19, 13), sharex=True, sharey=True)\n",
    "ax = axes.ravel()\n",
    "\n",
    "ax[0].imshow(band_cont, cmap=plt.cm.gray)\n",
    "ax[0].set_title('band contrast image')\n",
    "ax[1].imshow(elevation_map, cmap=plt.cm.gray)\n",
    "ax[1].set_title('elevation map')\n",
    "ax[2].imshow(markers, cmap=plt.cm.nipy_spectral)\n",
    "ax[2].set_title('markers')\n",
    "ax[3].imshow(segmentation_band_cont, cmap=plt.cm.gray)\n",
    "ax[3].set_title('band contrast watershed')\n",
    "\n",
    "for a in ax:\n",
    "    a.set_axis_off()\n",
    "\n",
    "fig.tight_layout()\n",
    "plt.show()"
   ]
  },
  {
   "cell_type": "code",
   "execution_count": null,
   "metadata": {},
   "outputs": [],
   "source": [
    "segmentation_band_cont = ndi.binary_fill_holes(segmentation_band_cont - 1)\n",
    "labeled_band_cont, _ = ndi.label(segmentation_band_cont)\n",
    "image_label_overlay = label2rgb(labeled_band_cont, image=band_cont, bg_label=0)\n",
    "\n",
    "fig, axes = plt.subplots(1, 2, figsize=(18, 13), sharey=True)\n",
    "axes[0].imshow(band_cont, cmap=plt.cm.gray)\n",
    "axes[0].contour(segmentation_band_cont, [0.5], linewidths=1.2, colors='y')\n",
    "axes[1].imshow(image_label_overlay)\n",
    "\n",
    "for a in axes:\n",
    "    a.axis('off')\n",
    "\n",
    "plt.tight_layout()\n",
    "\n",
    "plt.show()"
   ]
  }
 ],
 "metadata": {
  "kernelspec": {
   "display_name": "Python 3.9.12 ('mypycv')",
   "language": "python",
   "name": "python3"
  },
  "language_info": {
   "codemirror_mode": {
    "name": "ipython",
    "version": 3
   },
   "file_extension": ".py",
   "mimetype": "text/x-python",
   "name": "python",
   "nbconvert_exporter": "python",
   "pygments_lexer": "ipython3",
   "version": "3.9.12"
  },
  "orig_nbformat": 4,
  "vscode": {
   "interpreter": {
    "hash": "406aeb87cd68a7e23b21063c7075bf13cb98bc9fa5d9201fcd28bd0a0632ab52"
   }
  }
 },
 "nbformat": 4,
 "nbformat_minor": 2
}
